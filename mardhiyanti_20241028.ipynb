{
 "cells": [
  {
   "cell_type": "markdown",
   "id": "d47d6f44-8373-42c2-811f-9b3212babbf8",
   "metadata": {},
   "source": [
    "# Example of Jupyter notebook for master's thesis\n",
    "\n",
    "Author: Luc Hens\n",
    "\n",
    "Date: 28 October 2024\n",
    "\n",
    "This notebook imports data for the real effective exchange rate (variable PX.REX.REER) and export volume (variable TX.QTY.MRCH.XD.WD) for Singapore (SGP) from the World Bank site, stores the data in a data frame, makes a scatter plot, and adds the simple regression line."
   ]
  },
  {
   "cell_type": "markdown",
   "id": "c4dd668d-3dcf-46bb-b371-1656a74436e5",
   "metadata": {},
   "source": [
    "## Import data:\n",
    "Import data from World Bank (data.worldbank.org):"
   ]
  },
  {
   "cell_type": "code",
   "execution_count": 1,
   "id": "fe661e15-8225-4fc5-8faf-1465c0b242b1",
   "metadata": {},
   "outputs": [],
   "source": [
    "import pandas as pd    # imports the pandas library and assigns it the alias pd"
   ]
  },
  {
   "cell_type": "markdown",
   "id": "c0c2a679-7d12-4887-8ad0-a558fe20f768",
   "metadata": {},
   "source": [
    "https://stackoverflow.com/questions/70575998/getting-data-from-world-bank-api-using-pandas"
   ]
  },
  {
   "cell_type": "code",
   "execution_count": 2,
   "id": "cc2bad75-3179-4149-9bd4-9b831389303b",
   "metadata": {},
   "outputs": [],
   "source": [
    "import requests\n",
    "import pandas as pd\n",
    "\n",
    "url = 'http://api.worldbank.org/v2/country/%s/indicator/PX.REX.REER?format=json'\n",
    "countries = [\"SGP\"]\n",
    "    \n",
    "my_values = []\n",
    "for country in countries:\n",
    "    data = requests.get(url %country).json()\n",
    "\n",
    "    try:\n",
    "        for d in data[1]:\n",
    "            my_values.append({\n",
    "                'country':d['country']['value'],\n",
    "                'date':d['date'],\n",
    "                'value':d['value']\n",
    "            })\n",
    "    except Exception as err:\n",
    "        print(f'[ERROR] country ==> {country} error ==> {err}')\n",
    "\n",
    "df1 = pd.DataFrame(my_values).sort_values(['country', 'date'], ascending=True)"
   ]
  },
  {
   "cell_type": "code",
   "execution_count": 3,
   "id": "abdea85c-b458-4f9b-9203-cd3aeea93f51",
   "metadata": {},
   "outputs": [
    {
     "name": "stdout",
     "output_type": "stream",
     "text": [
      "country        object\n",
      "date           object\n",
      "px_rx_reer    float64\n",
      "dtype: object\n"
     ]
    }
   ],
   "source": [
    "df1 = df1.rename(\n",
    "    columns={\n",
    "        'value': 'px_rx_reer'})\n",
    "\n",
    "print(df1.dtypes)"
   ]
  },
  {
   "cell_type": "code",
   "execution_count": 4,
   "id": "4958bdef-1981-42e0-9991-8fce18701991",
   "metadata": {},
   "outputs": [],
   "source": [
    "url = 'http://api.worldbank.org/v2/country/%s/indicator/TX.QTY.MRCH.XD.WD?format=json'\n",
    "countries = [\"SGP\"]\n",
    "    \n",
    "my_values = []\n",
    "for country in countries:\n",
    "    data = requests.get(url %country).json()\n",
    "\n",
    "    try:\n",
    "        for d in data[1]:\n",
    "            my_values.append({\n",
    "                'country':d['country']['value'],\n",
    "                'date':d['date'],\n",
    "                'value':d['value']\n",
    "            })\n",
    "    except Exception as err:\n",
    "        print(f'[ERROR] country ==> {country} error ==> {err}')\n",
    "\n",
    "df2 = pd.DataFrame(my_values).sort_values(['country', 'date'], ascending=True)"
   ]
  },
  {
   "cell_type": "code",
   "execution_count": 5,
   "id": "e7393a46-1b36-490d-9051-1d13c7a64fed",
   "metadata": {},
   "outputs": [
    {
     "name": "stdout",
     "output_type": "stream",
     "text": [
      "country               object\n",
      "date                  object\n",
      "tx_qty_mrch_xd_wd    float64\n",
      "dtype: object\n"
     ]
    }
   ],
   "source": [
    "df2 = df2.rename(\n",
    "    columns={\n",
    "        'value': 'tx_qty_mrch_xd_wd'})\n",
    "\n",
    "print(df2.dtypes)"
   ]
  },
  {
   "cell_type": "markdown",
   "id": "5d6bafb6-865d-4217-a18c-2d4bcbd139e1",
   "metadata": {},
   "source": [
    "Merge the two dataframes:"
   ]
  },
  {
   "cell_type": "code",
   "execution_count": 6,
   "id": "312dffa5-fe36-4472-9b66-11010701c17a",
   "metadata": {},
   "outputs": [],
   "source": [
    "df3 = pd.merge(df1, df2, on='date')"
   ]
  },
  {
   "cell_type": "code",
   "execution_count": 7,
   "id": "f2af9299-f7f6-4c96-b526-8aade0e039f7",
   "metadata": {},
   "outputs": [],
   "source": [
    "df3.drop(['country_y'], axis='columns', inplace=True)"
   ]
  },
  {
   "cell_type": "code",
   "execution_count": 8,
   "id": "18052e22-623d-4270-9a5c-16684b5dd2fa",
   "metadata": {},
   "outputs": [
    {
     "name": "stdout",
     "output_type": "stream",
     "text": [
      "      country  date  px_rx_reer  tx_qty_mrch_xd_wd\n",
      "0   Singapore  1974         NaN                NaN\n",
      "1   Singapore  1975         NaN                NaN\n",
      "2   Singapore  1976         NaN                NaN\n",
      "3   Singapore  1977         NaN                NaN\n",
      "4   Singapore  1978         NaN                NaN\n",
      "5   Singapore  1979   96.260010                NaN\n",
      "6   Singapore  1980   95.915436           3.979533\n",
      "7   Singapore  1981  101.421962           4.106214\n",
      "8   Singapore  1982  106.362508           4.235257\n",
      "9   Singapore  1983  107.682496           4.596349\n",
      "10  Singapore  1984  109.439012           5.334108\n",
      "11  Singapore  1985  106.738380           5.336224\n",
      "12  Singapore  1986   91.015549           6.045704\n",
      "13  Singapore  1987   85.422738           7.247033\n",
      "14  Singapore  1988   83.739994           9.547919\n",
      "15  Singapore  1989   87.512648          10.644158\n",
      "16  Singapore  1990   93.038960          11.583671\n",
      "17  Singapore  1991   96.062144          13.067291\n",
      "18  Singapore  1992   97.728019          14.190240\n",
      "19  Singapore  1993   98.004526          16.694411\n",
      "20  Singapore  1994  102.530533          21.647094\n",
      "21  Singapore  1995  104.271870          24.898590\n",
      "22  Singapore  1996  107.225116          26.539970\n",
      "23  Singapore  1997  108.559033          28.192177\n",
      "24  Singapore  1998  105.905873          28.621668\n",
      "25  Singapore  1999   98.687563          30.179024\n",
      "26  Singapore  2000   98.523203          34.813731\n",
      "27  Singapore  2001   99.039101          34.311058\n",
      "28  Singapore  2002   96.465710          36.981562\n",
      "29  Singapore  2003   93.076794          51.308464\n",
      "30  Singapore  2004   92.034860          59.946252\n",
      "31  Singapore  2005   90.607045          65.785909\n",
      "32  Singapore  2006   91.827616          73.094707\n",
      "33  Singapore  2007   92.252861          78.585372\n",
      "34  Singapore  2008   97.014977          80.998569\n",
      "35  Singapore  2009   97.033124          73.141699\n",
      "36  Singapore  2010  100.000000          87.767736\n",
      "37  Singapore  2011  105.169308          91.701660\n",
      "38  Singapore  2012  110.035190          91.839722\n",
      "39  Singapore  2013  112.056531          95.784141\n",
      "40  Singapore  2014  111.335260          97.944592\n",
      "41  Singapore  2015  108.318221         100.000000\n",
      "42  Singapore  2016  108.266281         100.271364\n",
      "43  Singapore  2017  107.063838         106.136496\n",
      "44  Singapore  2018  106.309536         110.632798\n",
      "45  Singapore  2019  106.529680         107.344325\n",
      "46  Singapore  2020  103.578925         110.644758\n",
      "47  Singapore  2021  103.344695         120.895178\n",
      "48  Singapore  2022  109.587686                NaN\n",
      "49  Singapore  2023  117.514832                NaN\n"
     ]
    }
   ],
   "source": [
    "df3 = df3.rename(\n",
    "    columns={\n",
    "        'country_x': 'country'})\n",
    "\n",
    "print(df3)"
   ]
  },
  {
   "cell_type": "markdown",
   "id": "d598e13c-9c92-45da-8cd1-1051430c87ae",
   "metadata": {},
   "source": [
    "## Make a scatter plot:\n",
    "Make a scatterplot of real effective exchange rate (x-axis) vs volume of exports (y-axis):"
   ]
  },
  {
   "cell_type": "code",
   "execution_count": 9,
   "id": "06983c92-0583-4916-87ea-c25cdd17d66c",
   "metadata": {},
   "outputs": [
    {
     "data": {
      "text/plain": [
       "<matplotlib.collections.PathCollection at 0x10b09c470>"
      ]
     },
     "execution_count": 9,
     "metadata": {},
     "output_type": "execute_result"
    },
    {
     "data": {
      "image/png": "[encoded data removed]",
      "text/plain": [
       "<Figure size 640x480 with 1 Axes>"
      ]
     },
     "metadata": {},
     "output_type": "display_data"
    }
   ],
   "source": [
    "import numpy as np\n",
    "import matplotlib.pyplot as plt\n",
    "plt.box(False)             # get rid of the box\n",
    "plt.xlabel(\"Real Effective Exchange Rate (2010 = 100)\")  # add label to x-axis\n",
    "plt.ylabel(\"Export Volume (2015 = 100)\")  # add label to y-axis\n",
    "plt.scatter(df3.px_rx_reer,df3.tx_qty_mrch_xd_wd)"
   ]
  },
  {
   "cell_type": "markdown",
   "id": "eb9bcae5-e364-4b7e-bfc4-3935bd3a0f03",
   "metadata": {},
   "source": [
    "Add a line of best fit to the scatter plot:"
   ]
  },
  {
   "cell_type": "code",
   "execution_count": 10,
   "id": "d9b9d11b-fc44-45e1-935f-064dcc6ffb5d",
   "metadata": {},
   "outputs": [],
   "source": [
    "import matplotlib.pyplot as plt \n",
    "import numpy as np \n",
    "import statsmodels.formula.api as smf\n",
    "\n",
    "# Fit regression model:\n",
    "results = smf.ols('df3.tx_qty_mrch_xd_wd ~ df3.px_rx_reer', data=df3).fit()"
   ]
  },
  {
   "cell_type": "code",
   "execution_count": 11,
   "id": "fbab5dc2-d7f8-48f9-82d5-9e1865136d1f",
   "metadata": {},
   "outputs": [
    {
     "data": {
      "image/png": "[encoded data removed]",
      "text/plain": [
       "<Figure size 640x480 with 1 Axes>"
      ]
     },
     "metadata": {},
     "output_type": "display_data"
    }
   ],
   "source": [
    "def abline(slope, intercept):\n",
    "    \"\"\"Plot a line from slope and intercept\"\"\"\n",
    "    axes = plt.gca()\n",
    "    x_vals = np.array(axes.get_xlim())\n",
    "    y_vals = intercept + slope * x_vals\n",
    "    plt.plot(x_vals, y_vals, '--')\n",
    "\n",
    "plt.box(False)             # get rid of the box\n",
    "plt.xlabel(\"Real Effective Exchange Rate (2010 = 100)\")  # add label to x-axis\n",
    "plt.ylabel(\"Export Volume (2015 = 100)\")  # add label to y-axis\n",
    "plt.scatter(df3.px_rx_reer,df3.tx_qty_mrch_xd_wd)\n",
    "abline(results.params.iloc[1],results.params.iloc[0])     # add line y=a*x+b  (a = slope, b = intercept)"
   ]
  },
  {
   "cell_type": "code",
   "execution_count": 12,
   "id": "5874dc84-ff98-44ad-bcf8-6448c7bedf81",
   "metadata": {},
   "outputs": [
    {
     "name": "stdout",
     "output_type": "stream",
     "text": [
      "                              OLS Regression Results                             \n",
      "=================================================================================\n",
      "Dep. Variable:     df3.tx_qty_mrch_xd_wd   R-squared:                       0.126\n",
      "Model:                               OLS   Adj. R-squared:                  0.104\n",
      "Method:                    Least Squares   F-statistic:                     5.746\n",
      "Date:                   Mon, 28 Oct 2024   Prob (F-statistic):             0.0213\n",
      "Time:                           16:52:39   Log-Likelihood:                -210.96\n",
      "No. Observations:                     42   AIC:                             425.9\n",
      "Df Residuals:                         40   BIC:                             429.4\n",
      "Df Model:                              1                                         \n",
      "Covariance Type:               nonrobust                                         \n",
      "==================================================================================\n",
      "                     coef    std err          t      P>|t|      [0.025      0.975]\n",
      "----------------------------------------------------------------------------------\n",
      "Intercept       -140.3633     79.494     -1.766      0.085    -301.026      20.299\n",
      "df3.px_rx_reer     1.8927      0.790      2.397      0.021       0.297       3.489\n",
      "==============================================================================\n",
      "Omnibus:                       17.680   Durbin-Watson:                   0.056\n",
      "Prob(Omnibus):                  0.000   Jarque-Bera (JB):                3.301\n",
      "Skew:                           0.005   Prob(JB):                        0.192\n",
      "Kurtosis:                       1.627   Cond. No.                     1.38e+03\n",
      "==============================================================================\n",
      "\n",
      "Notes:\n",
      "[1] Standard Errors assume that the covariance matrix of the errors is correctly specified.\n",
      "[2] The condition number is large, 1.38e+03. This might indicate that there are\n",
      "strong multicollinearity or other numerical problems.\n"
     ]
    }
   ],
   "source": [
    "# Inspect the results:\n",
    "print(results.summary())"
   ]
  },
  {
   "cell_type": "code",
   "execution_count": null,
   "id": "c6d2661d-d75a-4cf0-ae7b-f04b0750a370",
   "metadata": {},
   "outputs": [],
   "source": []
  }
 ],
 "metadata": {
  "kernelspec": {
   "display_name": "Python 3 (ipykernel)",
   "language": "python",
   "name": "python3"
  },
  "language_info": {
   "codemirror_mode": {
    "name": "ipython",
    "version": 3
   },
   "file_extension": ".py",
   "mimetype": "text/x-python",
   "name": "python",
   "nbconvert_exporter": "python",
   "pygments_lexer": "ipython3",
   "version": "3.12.5"
  }
 },
 "nbformat": 4,
 "nbformat_minor": 5
}
